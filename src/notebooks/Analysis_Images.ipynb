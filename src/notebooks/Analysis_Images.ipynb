{
  "nbformat": 4,
  "nbformat_minor": 0,
  "metadata": {
    "colab": {
      "private_outputs": true,
      "provenance": []
    },
    "kernelspec": {
      "name": "python3",
      "display_name": "Python 3"
    },
    "language_info": {
      "name": "python"
    }
  },
  "cells": [
    {
      "cell_type": "code",
      "execution_count": null,
      "metadata": {
        "id": "Ps-bRA03glov"
      },
      "outputs": [],
      "source": [
        "!pip install -U -q google-generativeai"
      ]
    },
    {
      "cell_type": "code",
      "source": [
        "import google.generativeai as genai\n",
        "from IPython.display import display, Markdown"
      ],
      "metadata": {
        "id": "QNrh8YZYgujk"
      },
      "execution_count": null,
      "outputs": []
    },
    {
      "cell_type": "code",
      "source": [
        "from google.colab import userdata\n",
        "GOOGLE_API_KEY = userdata.get('GOOGLE_API_KEY')\n",
        "# genai.configure(api_key=\"AIzaSyATKZ6OaXM0dPSEKaV3Ph8HsDhSPb/uBe30\")\n",
        "genai.configure(api_key=GOOGLE_API_KEY)"
      ],
      "metadata": {
        "id": "fYHnR_nagxcD"
      },
      "execution_count": null,
      "outputs": []
    },
    {
      "cell_type": "code",
      "source": [
        "model = genai.GenerativeModel('models/gemini-pro-vision')"
      ],
      "metadata": {
        "id": "3EPupwFog1ob"
      },
      "execution_count": null,
      "outputs": []
    },
    {
      "cell_type": "code",
      "source": [
        "import PIL\n",
        "from IPython.display import display\n",
        "\n",
        "image = PIL.Image.open('quote.jpg')\n",
        "display(image)"
      ],
      "metadata": {
        "id": "nyAN5_kjg4gj"
      },
      "execution_count": null,
      "outputs": []
    },
    {
      "cell_type": "code",
      "source": [
        "prompt = f'''\n",
        "You are a part of a journalling app, where the person will use imagery to convey his thoughts, feelings and mood.\n",
        "But you are more than any ordinary journal. You will analyse and understand the emotions and thoughts of the person through the image.\n",
        "\n",
        "Finally you will summarise the person's mental state for the day.\n",
        "\n",
        "The response should NOT make any conclusive decision about what the person should do, as that is the therapist's job.\n",
        "The response should be an observation of the person's mental well-being and making an analysis of it, to help the therapist come up with the decisions.\n",
        "The response should analyse the image and what the image is conveying and how the image is reflection of the person.\n",
        "\n",
        "The structure of the response should be:\n",
        "\n",
        "1. **Emotions**: <A list of atleast 3 emotions the image depicts.>\n",
        "2. **Possible thought patterns**: <A collection of 3-4 prominent thought patterns the image is having with a brief explanation.>\n",
        "3. **Mental well-being scores:**\n",
        "<A list of 10 mental states as indicated by the image, with two scores - confidence (how sure you are about the state in the image) and intensity (the strength of the emotion in the image).\n",
        "Sort the states in the decreasing order of the confidence scores.\n",
        "Make both the scores out of 10. Include all major mental health states.\n",
        "Make it look like a table.>\n",
        "4. **Summary of the day:** <The summary should be informative to the therapist. Keep the summary in 3-4 sentences/>\n",
        "5. **Explanation:** <Explain your reasoning with detailed descriptions of the image. Break down your reasoning step-by-step. >\n",
        "'''"
      ],
      "metadata": {
        "id": "K0YaREHphOT_"
      },
      "execution_count": null,
      "outputs": []
    },
    {
      "cell_type": "code",
      "source": [
        "response = model.generate_content([prompt, image])"
      ],
      "metadata": {
        "id": "lA7thqsnk525"
      },
      "execution_count": null,
      "outputs": []
    },
    {
      "cell_type": "code",
      "source": [
        "print(response.text)"
      ],
      "metadata": {
        "id": "BTwAV7GGS7QR"
      },
      "execution_count": null,
      "outputs": []
    },
    {
      "cell_type": "code",
      "source": [
        "display(Markdown(response.text))"
      ],
      "metadata": {
        "id": "sFKVnSLflBwj"
      },
      "execution_count": null,
      "outputs": []
    },
    {
      "cell_type": "code",
      "source": [
        "response.candidates"
      ],
      "metadata": {
        "id": "fX1azYzNRV68"
      },
      "execution_count": null,
      "outputs": []
    }
  ]
}